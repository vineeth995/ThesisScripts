{
  "nbformat": 4,
  "nbformat_minor": 0,
  "metadata": {
    "accelerator": "TPU",
    "colab": {
      "name": "UFI.ipynb",
      "provenance": [],
      "authorship_tag": "ABX9TyMtohHzFOG8sNUt0USl1/Aw",
      "include_colab_link": true
    },
    "kernelspec": {
      "display_name": "Python 3",
      "name": "python3"
    }
  },
  "cells": [
    {
      "cell_type": "markdown",
      "metadata": {
        "id": "view-in-github",
        "colab_type": "text"
      },
      "source": [
        "<a href=\"https://colab.research.google.com/github/vineeth995/ThesisScripts/blob/main/UFI.ipynb\" target=\"_parent\"><img src=\"https://colab.research.google.com/assets/colab-badge.svg\" alt=\"Open In Colab\"/></a>"
      ]
    },
    {
      "cell_type": "code",
      "metadata": {
        "id": "J3B0kUiBX2hY"
      },
      "source": [
        "import numpy as np # linear algebra\n",
        "import pandas as pd # data processing, CSV file I/O (e.g. pd.read_csv)\n",
        "import matplotlib.pyplot as plt\n",
        "pd.set_option('display.max_columns', 5000)\n",
        "from sklearn.preprocessing import MinMaxScaler,StandardScaler,LabelEncoder\n",
        "from sklearn.model_selection import train_test_split\n",
        "from sklearn.ensemble import RandomForestRegressor,GradientBoostingRegressor\n",
        "from sklearn.metrics import mean_absolute_error,r2_score,mean_squared_error,explained_variance_score\n",
        "from sklearn.linear_model import LinearRegression\n",
        "from sklearn.model_selection import cross_val_score\n",
        "import seaborn as sns\n",
        "from sklearn.tree import DecisionTreeClassifier,DecisionTreeRegressor\n",
        "from sklearn.model_selection import GridSearchCV\n",
        "import xgboost as xgb\n",
        "from sklearn.model_selection import RandomizedSearchCV\n",
        "from sklearn.ensemble import AdaBoostRegressor,GradientBoostingRegressor\n",
        "from xgboost import XGBRegressor\n",
        "import tensorflow as tf\n",
        "from tensorflow import keras\n",
        "from tensorflow.keras import layers\n",
        "from pandas_profiling import ProfileReport\n",
        "from sklearn.preprocessing import LabelEncoder\n",
        "from sklearn.inspection import permutation_importance"
      ],
      "execution_count": null,
      "outputs": []
    },
    {
      "cell_type": "code",
      "metadata": {
        "colab": {
          "base_uri": "https://localhost:8080/"
        },
        "id": "N-gROoqXYVP4",
        "outputId": "bdc752bd-a42c-4ed3-ff49-a0fa3d8c7616"
      },
      "source": [
        "from google.colab import drive\n",
        "drive.mount('/content/drive')\n",
        "data=pd.read_csv(\"/content/drive/My Drive/House_Prices/immo_data.csv\")"
      ],
      "execution_count": null,
      "outputs": [
        {
          "output_type": "stream",
          "text": [
            "Mounted at /content/drive\n"
          ],
          "name": "stdout"
        }
      ]
    },
    {
      "cell_type": "code",
      "metadata": {
        "id": "jM222opbYWRc"
      },
      "source": [
        "data_cat=pd.read_csv(\"/content/drive/My Drive/House_Prices/immo_data.csv\")\n",
        "data_cat=data_cat.drop(['telekomHybridUploadSpeed','picturecount','scoutId','noParkSpaces','date','electricityKwhPrice','electricityBasePrice','description','street','streetPlain','houseNumber','telekomTvOffer','telekomUploadSpeed','lastRefurbish','energyEfficiencyClass','heatingCosts','regio3','facilities'\n",
        ",'livingSpaceRange','noRoomsRange','baseRentRange','thermalChar','petsAllowed','geo_bln','geo_krs','serviceCharge','pricetrend','totalRent','yearConstructedRange','yearConstructed','firingTypes','regio1','regio2','numberOfFloors'],axis=1)\n",
        "data_cat = data_cat.dropna(subset=['heatingType','newlyConst','balcony','hasKitchen','cellar','baseRent','livingSpace','condition','interiorQual','lift','typeOfFlat','geo_plz','noRooms','floor','garden'],inplace=False)"
      ],
      "execution_count": null,
      "outputs": []
    },
    {
      "cell_type": "code",
      "metadata": {
        "id": "j6ye1o9YYi66"
      },
      "source": [
        "#Run if you want encoding\n",
        "#dont use for catboost\n",
        "lbl_enc = LabelEncoder()\n",
        "data_cat.loc[:, \"heatingType\"] = lbl_enc.fit_transform(data_cat.heatingType.values)\n",
        "data_cat.loc[:, \"condition\"] = lbl_enc.fit_transform(data_cat.condition.values)\n",
        "data_cat.loc[:, \"interiorQual\"] = lbl_enc.fit_transform(data_cat.interiorQual.values)\n",
        "data_cat.loc[:, \"typeOfFlat\"] = lbl_enc.fit_transform(data_cat.typeOfFlat.values)\n",
        "data_cat.loc[:, \"geo_plz\"] = lbl_enc.fit_transform(data_cat.geo_plz.values)"
      ],
      "execution_count": null,
      "outputs": []
    },
    {
      "cell_type": "code",
      "metadata": {
        "id": "3MxGHBWIYkyy"
      },
      "source": [
        "#if you want to encode enum values\n",
        "def balkon(row):\n",
        "    if row['balcony']==True:\n",
        "        return 1\n",
        "    elif row['balcony']==False:\n",
        "        return 0    \n",
        "    \n",
        "def kitchen(row):\n",
        "    if row['hasKitchen']==True:\n",
        "        return 1\n",
        "    elif row['hasKitchen']==False:\n",
        "        return 0    \n",
        "    \n",
        "def cellar(row):\n",
        "    if row['cellar']==True:\n",
        "        return 1\n",
        "    elif row['cellar']==False:\n",
        "        return 0    \n",
        " \n",
        "def lift(row):\n",
        "    if row['lift']==True:\n",
        "        return 1\n",
        "    elif row['lift']==False:\n",
        "        return 0\n",
        "\n",
        "def garden(row):\n",
        "    if row['garden']==True:\n",
        "        return 1\n",
        "    elif row['garden']==False:\n",
        "        return 0 \n",
        "\n",
        "def newlyConst(row):\n",
        "    if row['newlyConst']==True:\n",
        "      return 1\n",
        "    else: \n",
        "      return 0  \n",
        "\n",
        "data_cat['balcony']=data_cat.apply(lambda row: balkon(row),axis=1)\n",
        "data_cat['hasKitchen']=data_cat.apply(lambda row: kitchen(row),axis=1)\n",
        "data_cat['cellar']=data_cat.apply(lambda row: cellar(row),axis=1)\n",
        "data_cat['lift']=data_cat.apply(lambda row: lift(row),axis=1)\n",
        "data_cat['garden']=data_cat.apply(lambda row: garden(row),axis=1)\n",
        "data_cat['newlyConst']=data_cat.apply(lambda row: newlyConst(row),axis=1)   \n",
        "\n",
        "data_cat['balcony'] = data_cat.balcony.astype('int')\n",
        "data_cat['balcony'] = data_cat.balcony.astype('category')\n",
        "data_cat['hasKitchen'] = data_cat.hasKitchen.astype('int')\n",
        "data_cat['hasKitchen'] = data_cat.hasKitchen.astype('category')\n",
        "data_cat['cellar'] = data_cat.cellar.astype('int')\n",
        "data_cat['cellar'] = data_cat.cellar.astype('category')\n",
        "data_cat['lift'] = data_cat.lift.astype('int')\n",
        "data_cat['lift'] = data_cat.lift.astype('category')\n",
        "data_cat['garden'] = data_cat.garden.astype('int')\n",
        "data_cat['garden'] = data_cat.garden.astype('category')\n",
        "data_cat['newlyConst'] = data_cat.newlyConst.astype('int')\n",
        "data_cat['newlyConst'] = data_cat.newlyConst.astype('category')"
      ],
      "execution_count": null,
      "outputs": []
    },
    {
      "cell_type": "code",
      "metadata": {
        "id": "oATR2aDcYm3F"
      },
      "source": [
        "#trimming extreme values\n",
        "data_cat.drop(data_cat[(data_cat['baseRent'] > 8000) | (data_cat['baseRent'] < 100)].index, inplace = True ,axis = 0)\n",
        "data_cat.drop(data_cat[(data_cat['livingSpace'] >= 2420) | (data_cat['livingSpace'] < 10)].index, inplace = True, axis = 0)\n",
        "data_cat.drop(data_cat[(data_cat['livingSpace'] < 100) & (data_cat['baseRent'] > 4000)].index, inplace = True, axis = 0)\n",
        "data_cat.drop(data_cat[(data_cat['noRooms'] > 15)].index, inplace = True, axis = 0)"
      ],
      "execution_count": null,
      "outputs": []
    },
    {
      "cell_type": "code",
      "metadata": {
        "id": "UmIGUULmYqay"
      },
      "source": [
        "#setting floors as category \n",
        "data_cat['noRooms'] = data_cat.noRooms.astype('int')\n",
        "data_cat['floor'] = data_cat.floor.astype('int')\n",
        "data_cat['floor'] = data_cat.floor.astype('category')"
      ],
      "execution_count": null,
      "outputs": []
    },
    {
      "cell_type": "code",
      "metadata": {
        "id": "JLqZo6oacf26"
      },
      "source": [
        "data_cat['geo_plz'] = data_cat.geo_plz.astype('category')\n",
        "data_cat['typeOfFlat'] = data_cat.typeOfFlat.astype('category')\n",
        "data_cat['condition'] = data_cat.condition.astype('category')\n",
        "data_cat['interiorQual'] = data_cat.interiorQual.astype('category')\n",
        "data_cat['heatingType'] = data_cat.heatingType.astype('category')"
      ],
      "execution_count": null,
      "outputs": []
    },
    {
      "cell_type": "code",
      "metadata": {
        "colab": {
          "base_uri": "https://localhost:8080/",
          "height": 204
        },
        "id": "ozJ01GljyvtV",
        "outputId": "f4cf4e8d-f1ea-4d08-de70-248fc478f911"
      },
      "source": [
        "data_cat.head(5)"
      ],
      "execution_count": null,
      "outputs": [
        {
          "output_type": "execute_result",
          "data": {
            "text/html": [
              "<div>\n",
              "<style scoped>\n",
              "    .dataframe tbody tr th:only-of-type {\n",
              "        vertical-align: middle;\n",
              "    }\n",
              "\n",
              "    .dataframe tbody tr th {\n",
              "        vertical-align: top;\n",
              "    }\n",
              "\n",
              "    .dataframe thead th {\n",
              "        text-align: right;\n",
              "    }\n",
              "</style>\n",
              "<table border=\"1\" class=\"dataframe\">\n",
              "  <thead>\n",
              "    <tr style=\"text-align: right;\">\n",
              "      <th></th>\n",
              "      <th>heatingType</th>\n",
              "      <th>newlyConst</th>\n",
              "      <th>balcony</th>\n",
              "      <th>hasKitchen</th>\n",
              "      <th>cellar</th>\n",
              "      <th>baseRent</th>\n",
              "      <th>livingSpace</th>\n",
              "      <th>condition</th>\n",
              "      <th>interiorQual</th>\n",
              "      <th>lift</th>\n",
              "      <th>typeOfFlat</th>\n",
              "      <th>geo_plz</th>\n",
              "      <th>noRooms</th>\n",
              "      <th>floor</th>\n",
              "      <th>garden</th>\n",
              "    </tr>\n",
              "  </thead>\n",
              "  <tbody>\n",
              "    <tr>\n",
              "      <th>0</th>\n",
              "      <td>0</td>\n",
              "      <td>0</td>\n",
              "      <td>0</td>\n",
              "      <td>0</td>\n",
              "      <td>1</td>\n",
              "      <td>595.0</td>\n",
              "      <td>86.00</td>\n",
              "      <td>9</td>\n",
              "      <td>1</td>\n",
              "      <td>0</td>\n",
              "      <td>1</td>\n",
              "      <td>2619</td>\n",
              "      <td>4</td>\n",
              "      <td>1</td>\n",
              "      <td>1</td>\n",
              "    </tr>\n",
              "    <tr>\n",
              "      <th>2</th>\n",
              "      <td>4</td>\n",
              "      <td>1</td>\n",
              "      <td>1</td>\n",
              "      <td>0</td>\n",
              "      <td>1</td>\n",
              "      <td>965.0</td>\n",
              "      <td>83.80</td>\n",
              "      <td>0</td>\n",
              "      <td>3</td>\n",
              "      <td>1</td>\n",
              "      <td>0</td>\n",
              "      <td>4</td>\n",
              "      <td>3</td>\n",
              "      <td>3</td>\n",
              "      <td>0</td>\n",
              "    </tr>\n",
              "    <tr>\n",
              "      <th>8</th>\n",
              "      <td>8</td>\n",
              "      <td>0</td>\n",
              "      <td>0</td>\n",
              "      <td>1</td>\n",
              "      <td>1</td>\n",
              "      <td>580.0</td>\n",
              "      <td>53.00</td>\n",
              "      <td>9</td>\n",
              "      <td>3</td>\n",
              "      <td>0</td>\n",
              "      <td>8</td>\n",
              "      <td>4903</td>\n",
              "      <td>2</td>\n",
              "      <td>2</td>\n",
              "      <td>0</td>\n",
              "    </tr>\n",
              "    <tr>\n",
              "      <th>9</th>\n",
              "      <td>9</td>\n",
              "      <td>0</td>\n",
              "      <td>0</td>\n",
              "      <td>0</td>\n",
              "      <td>1</td>\n",
              "      <td>300.0</td>\n",
              "      <td>60.00</td>\n",
              "      <td>9</td>\n",
              "      <td>1</td>\n",
              "      <td>0</td>\n",
              "      <td>0</td>\n",
              "      <td>2752</td>\n",
              "      <td>2</td>\n",
              "      <td>2</td>\n",
              "      <td>0</td>\n",
              "    </tr>\n",
              "    <tr>\n",
              "      <th>13</th>\n",
              "      <td>0</td>\n",
              "      <td>0</td>\n",
              "      <td>0</td>\n",
              "      <td>0</td>\n",
              "      <td>0</td>\n",
              "      <td>950.0</td>\n",
              "      <td>123.44</td>\n",
              "      <td>1</td>\n",
              "      <td>3</td>\n",
              "      <td>0</td>\n",
              "      <td>0</td>\n",
              "      <td>3560</td>\n",
              "      <td>4</td>\n",
              "      <td>4</td>\n",
              "      <td>0</td>\n",
              "    </tr>\n",
              "  </tbody>\n",
              "</table>\n",
              "</div>"
            ],
            "text/plain": [
              "   heatingType newlyConst balcony hasKitchen cellar  baseRent  livingSpace  \\\n",
              "0            0          0       0          0      1     595.0        86.00   \n",
              "2            4          1       1          0      1     965.0        83.80   \n",
              "8            8          0       0          1      1     580.0        53.00   \n",
              "9            9          0       0          0      1     300.0        60.00   \n",
              "13           0          0       0          0      0     950.0       123.44   \n",
              "\n",
              "   condition interiorQual lift typeOfFlat geo_plz  noRooms floor garden  \n",
              "0          9            1    0          1    2619        4     1      1  \n",
              "2          0            3    1          0       4        3     3      0  \n",
              "8          9            3    0          8    4903        2     2      0  \n",
              "9          9            1    0          0    2752        2     2      0  \n",
              "13         1            3    0          0    3560        4     4      0  "
            ]
          },
          "metadata": {
            "tags": []
          },
          "execution_count": 9
        }
      ]
    },
    {
      "cell_type": "code",
      "metadata": {
        "colab": {
          "base_uri": "https://localhost:8080/"
        },
        "id": "A8dkGcO2b9Q-",
        "outputId": "e6589235-08d9-436a-d2b4-3880932dbc46"
      },
      "source": [
        "data_cat.dtypes"
      ],
      "execution_count": null,
      "outputs": [
        {
          "output_type": "execute_result",
          "data": {
            "text/plain": [
              "heatingType     category\n",
              "newlyConst      category\n",
              "balcony         category\n",
              "hasKitchen      category\n",
              "cellar          category\n",
              "baseRent         float64\n",
              "livingSpace      float64\n",
              "condition       category\n",
              "interiorQual    category\n",
              "lift            category\n",
              "typeOfFlat      category\n",
              "geo_plz         category\n",
              "noRooms            int64\n",
              "floor           category\n",
              "garden          category\n",
              "dtype: object"
            ]
          },
          "metadata": {
            "tags": []
          },
          "execution_count": 10
        }
      ]
    },
    {
      "cell_type": "code",
      "metadata": {
        "id": "Y0-OD2m1YsYw"
      },
      "source": [
        "#splitting X and y variables\n",
        "y_cat=data_cat['baseRent']\n",
        "X_cat=data_cat.drop(['baseRent'],axis=1)"
      ],
      "execution_count": null,
      "outputs": []
    },
    {
      "cell_type": "code",
      "metadata": {
        "id": "itrUAou_Yubl"
      },
      "source": [
        "#splitting into testing and training sets\n",
        "from sklearn.model_selection import train_test_split\n",
        "X_train, X_test, y_train, y_test = train_test_split(X_cat, y_cat)"
      ],
      "execution_count": null,
      "outputs": []
    },
    {
      "cell_type": "code",
      "metadata": {
        "colab": {
          "base_uri": "https://localhost:8080/"
        },
        "id": "tIZIw0gGY24P",
        "outputId": "e72257c7-fe46-4ef6-b6b8-5cdc865b5b94"
      },
      "source": [
        "gbr= GradientBoostingRegressor(n_estimators = 100)\n",
        "gbr.fit(X_train, y_train)\n",
        "    \n",
        "    "
      ],
      "execution_count": null,
      "outputs": [
        {
          "output_type": "execute_result",
          "data": {
            "text/plain": [
              "GradientBoostingRegressor(alpha=0.9, ccp_alpha=0.0, criterion='friedman_mse',\n",
              "                          init=None, learning_rate=0.1, loss='ls', max_depth=3,\n",
              "                          max_features=None, max_leaf_nodes=None,\n",
              "                          min_impurity_decrease=0.0, min_impurity_split=None,\n",
              "                          min_samples_leaf=1, min_samples_split=2,\n",
              "                          min_weight_fraction_leaf=0.0, n_estimators=100,\n",
              "                          n_iter_no_change=None, presort='deprecated',\n",
              "                          random_state=None, subsample=1.0, tol=0.0001,\n",
              "                          validation_fraction=0.1, verbose=0, warm_start=False)"
            ]
          },
          "metadata": {
            "tags": []
          },
          "execution_count": 13
        }
      ]
    },
    {
      "cell_type": "code",
      "metadata": {
        "id": "DCZfln0zZAq6"
      },
      "source": [
        "y_pred=gbr.predict(X_test)"
      ],
      "execution_count": null,
      "outputs": []
    },
    {
      "cell_type": "code",
      "metadata": {
        "colab": {
          "base_uri": "https://localhost:8080/"
        },
        "id": "ezufDR42ZJlH",
        "outputId": "4d32defe-2805-486d-cc3c-ce09e0c32088"
      },
      "source": [
        "r2_score(y_test,y_pred)"
      ],
      "execution_count": null,
      "outputs": [
        {
          "output_type": "execute_result",
          "data": {
            "text/plain": [
              "0.8398745366497598"
            ]
          },
          "metadata": {
            "tags": []
          },
          "execution_count": 15
        }
      ]
    },
    {
      "cell_type": "code",
      "metadata": {
        "colab": {
          "base_uri": "https://localhost:8080/"
        },
        "id": "FzQgEXO7ZOza",
        "outputId": "853afc90-56d9-4f87-8fcc-53be82928ea7"
      },
      "source": [
        "gbr.feature_importances_"
      ],
      "execution_count": null,
      "outputs": [
        {
          "output_type": "execute_result",
          "data": {
            "text/plain": [
              "array([6.93808803e-05, 6.46208761e-04, 3.03543510e-03, 2.46558225e-02,\n",
              "       2.47978029e-04, 6.31012737e-01, 2.50723293e-02, 1.00173830e-01,\n",
              "       4.47379056e-02, 0.00000000e+00, 1.65209264e-01, 6.86103065e-04,\n",
              "       4.45300512e-03, 0.00000000e+00])"
            ]
          },
          "metadata": {
            "tags": []
          },
          "execution_count": 16
        }
      ]
    },
    {
      "cell_type": "code",
      "metadata": {
        "id": "CR95omkqZhNr"
      },
      "source": [
        "importances = gbr.feature_importances_\n",
        "indices = np.argsort(importances)"
      ],
      "execution_count": null,
      "outputs": []
    },
    {
      "cell_type": "code",
      "metadata": {
        "id": "t1cSKwexZu-d"
      },
      "source": [
        "features=list(X_train.columns)"
      ],
      "execution_count": null,
      "outputs": []
    },
    {
      "cell_type": "code",
      "metadata": {
        "colab": {
          "base_uri": "https://localhost:8080/",
          "height": 282
        },
        "id": "8gFPrCpJaCyf",
        "outputId": "4709bcc7-b57b-45a1-cedb-2fa04a0a8c0f"
      },
      "source": [
        "feat_importances = pd.Series(gbr.feature_importances_, index=X_train.columns)\n",
        "feat_importances.nlargest(10).plot(kind='barh')"
      ],
      "execution_count": null,
      "outputs": [
        {
          "output_type": "execute_result",
          "data": {
            "text/plain": [
              "<matplotlib.axes._subplots.AxesSubplot at 0x7ff6ea6c6810>"
            ]
          },
          "metadata": {
            "tags": []
          },
          "execution_count": 19
        },
        {
          "output_type": "display_data",
          "data": {
            "image/png": "[encoded data removed]",
            "text/plain": [
              "<Figure size 432x288 with 1 Axes>"
            ]
          },
          "metadata": {
            "tags": []
          }
        }
      ]
    },
    {
      "cell_type": "code",
      "metadata": {
        "id": "niIOfO7yaSKu"
      },
      "source": [
        "import numpy as np\n",
        "from sklearn.utils import check_random_state\n",
        "\n",
        "def _generate_sample_indices(random_state, n_samples):\n",
        "    \"\"\"Private function used to _parallel_build_trees function.\"\"\"\n",
        "    random_instance = check_random_state(random_state)\n",
        "    sample_indices = random_instance.randint(0, n_samples, n_samples)\n",
        "\n",
        "    return sample_indices\n",
        "\n",
        "\n",
        "\n",
        "def inbag_times_(mod, X):\n",
        "    \"\"\" Return n_samples by n_estimators array which keeps track of which samples are\n",
        "        \"in-bag\" in which trees for how many times.\n",
        "    Parameters  \n",
        "    ----------\n",
        "    self : RandomForest object. \n",
        "    X : array-like of shape = [n_samples, n_features]\n",
        "    The training input samples. It should be the same data as you use to fit RandomForest. \n",
        "    Returns\n",
        "    -------\n",
        "    inbag_times_ : array, shape = [n_samples, n_estimators]\n",
        "    \"\"\"\n",
        "    n_samples = X.shape[0]\n",
        "    inbag = np.zeros((n_samples, mod.n_estimators))\n",
        "    for t_idx in range(mod.n_estimators):\n",
        "        sample_idx = _generate_sample_indices(mod.estimators_[t_idx].random_state, n_samples)\n",
        "        inbag[:, t_idx] = np.bincount(sample_idx, minlength = n_samples)\n",
        "\n",
        "    return inbag\n",
        "\n",
        "\n",
        "\n",
        "\n",
        "def regr(mod, X, y):\n",
        "    \"\"\"Return unbiased measurement of feature importance for RandomForestRegressor using out-of-bag samples.\n",
        "    Parameters  \n",
        "    ----------\n",
        "    self : RandomForestRegressor object. \n",
        "    X : array-like of shape = [n_samples, n_features]\n",
        "        The training input samples. It should be the same data as you use to fit RandomForestRegressor.\n",
        "    y : array-like of shape = [n_samples]\n",
        "        The target values (real numbers in regression). \n",
        "    Returns\n",
        "    -------\n",
        "    feature importance: array, shape = [n_features]\n",
        "    \"\"\"   \n",
        "    VI = np.array([0.] * mod.n_features_)\n",
        "    print('VI Initial Value:',VI)\n",
        "\n",
        "    n_estimators = mod.n_estimators\n",
        "    print('Estimators:' ,n_estimators)\n",
        "\n",
        "    #inbag = inbag_times_(mod, X)\n",
        "    #print('Inbag',inbag)\n",
        "    \n",
        "\n",
        "\n",
        "    for index, tree in enumerate(mod.estimators_):\n",
        "\n",
        "        temp = np.array([0.] * mod.n_features_)\n",
        "\n",
        "        n_nodes = tree[0].tree_.node_count\n",
        "\n",
        "        x1,x2,y1,y2=train_test_split(X,y,test_size=0.50)\n",
        "        \n",
        "        #tree_X_inb = X.repeat((inbag[:, index]).astype(\"int\"), axis = 0)\n",
        "        tree_X_inb = x1\n",
        "        print('tree x inb:',tree_X_inb)\n",
        "        #tree_y_inb = y.repeat((inbag[:, index]).astype(\"int\"), axis = 0)\n",
        "        tree_y_inb = y1\n",
        "        print('tree y inb',tree_y_inb)\n",
        "        decision_path_inb = tree[0].decision_path(tree_X_inb).todense()\n",
        "        print('dec path inb',decision_path_inb)\n",
        "\n",
        "        #tree_X_oob = X[inbag[:, index] == 0]\n",
        "        tree_X_oob = x2\n",
        "        print('tree x oob',tree_X_oob)\n",
        "        #tree_y_oob = y[inbag[:, index] == 0]\n",
        "        tree_y_oob = y2\n",
        "        print('tree y oob',tree_y_oob)\n",
        "        decision_path_oob = tree[0].decision_path(tree_X_oob).todense()\n",
        "        print('dec path oob',decision_path_oob)\n",
        "\n",
        "        impurity_train = tree[0].tree_.impurity\n",
        "        impurity = [0] * n_nodes\n",
        "\n",
        "        flag = [True] * n_nodes\n",
        "\n",
        "        print(\"sum of decpath\")\n",
        "        print(np.sum(decision_path_inb, axis = 0))\n",
        "        print(\"***\")\n",
        "        print(np.array(np.sum(decision_path_inb, axis = 0)))\n",
        "        print(\"***\")\n",
        "        print(tree_X_inb.shape[0])\n",
        "        print(\"****\")\n",
        "        print(np.array(np.sum(decision_path_inb, axis = 0))[0])\n",
        "        weighted_n_node_samples = np.array(np.sum(decision_path_inb, axis = 0))[0] / tree_X_inb.shape[0]\n",
        "        print(\"***\")\n",
        "        print(weighted_n_node_samples)\n",
        "\n",
        "        for i in range(n_nodes):\n",
        "\n",
        "            arr1 = tree_y_oob.iloc[np.array(decision_path_oob[:, i]).ravel().nonzero()[0].tolist()]\n",
        "            arr2 = tree_y_inb.iloc[np.array(decision_path_inb[:, i]).ravel().nonzero()[0].tolist()]\n",
        "            \n",
        "            print(\"t-5\")\n",
        "\n",
        "            if len(arr1) == 0:\n",
        "                if sum(tree[0].tree_.children_left == i) > 0:\n",
        "                    parent_node = np.arange(n_nodes)[tree[0].tree_.children_left == i][0]\n",
        "                    flag[parent_node] = False\n",
        "                else:\n",
        "                    parent_node = np.arange(n_nodes)[tree[0].tree_.children_right == i][0]\n",
        "                    flag[parent_node] = False\n",
        "            else:\n",
        "                print(np.isnan(arr2).any())\n",
        "                shit=np.mean(arr2)\n",
        "                numerator = np.sum((arr1 - shit) ** 2) \n",
        "                denominator=len(arr1)\n",
        "                impurity[i] = numerator/denominator\n",
        "\n",
        "            print(\"t-4\")    \n",
        "\n",
        "        for node in range(n_nodes):\n",
        "\n",
        "            if tree[0].tree_.children_left[node] == -1 or tree[0].tree_.children_right[node] == -1:\n",
        "                continue\n",
        "\n",
        "            v = tree[0].tree_.feature[node]\n",
        "\n",
        "            node_left = tree[0].tree_.children_left[node]\n",
        "            node_right = tree[0].tree_.children_right[node]\n",
        "\n",
        "            print(\"Main engine start\")\n",
        "\n",
        "            if flag[node] == True:\n",
        "\n",
        "                incre = (weighted_n_node_samples[node] * (impurity[node] + impurity_train[node]) -\n",
        "                         weighted_n_node_samples[node_left] * (impurity[node_left] + impurity_train[node_left]) - \n",
        "                         weighted_n_node_samples[node_right] * (impurity_train[node_right] + impurity[node_right]))\n",
        "\n",
        "                temp[v] += incre\n",
        "       \n",
        "        VI += temp \n",
        "\n",
        "    return VI / n_estimators"
      ],
      "execution_count": null,
      "outputs": []
    },
    {
      "cell_type": "code",
      "metadata": {
        "colab": {
          "background_save": true
        },
        "id": "r41IyDxoae5P"
      },
      "source": [
        "All = []\n",
        "model_check = GradientBoostingRegressor(n_estimators = 100)\n",
        "modle.fit(X_train, y_train)\n",
        "\n",
        "All.append(regr(model_check, X_cat, y_cat))\n",
        "import math\n",
        "\n",
        "imp = np.mean(All, axis = 0)\n",
        "\n",
        "std = np.std(All, axis = 0)"
      ],
      "execution_count": null,
      "outputs": []
    },
    {
      "cell_type": "code",
      "metadata": {
        "colab": {
          "base_uri": "https://localhost:8080/",
          "height": 489
        },
        "id": "c5obZH8LACoD",
        "outputId": "b1871561-1042-403e-d2d5-7f4867bc5451"
      },
      "source": [
        "plt.figure(figsize=(18, 8))\n",
        "\n",
        "imp_name = X_train.columns\n",
        "pos = np.arange(len(imp_name))\n",
        "bars = imp_name\n",
        "\n",
        "barlist = plt.bar(pos, imp, yerr = std, ecolor = \"red\")\n",
        "barlist[-1].set_color('black')\n",
        "plt.xticks(pos, bars, fontsize = 15)\n",
        "\n",
        "plt.ylabel(\"feature importance\", fontsize = 18)\n",
        "\n",
        "plt.savefig(\"UFI_on_boston_data.png\")"
      ],
      "execution_count": null,
      "outputs": [
        {
          "output_type": "display_data",
          "data": {
            "image/png": "[encoded data removed]",
            "text/plain": [
              "<Figure size 1296x576 with 1 Axes>"
            ]
          },
          "metadata": {
            "tags": []
          }
        }
      ]
    },
    {
      "cell_type": "code",
      "metadata": {
        "colab": {
          "base_uri": "https://localhost:8080/",
          "height": 295
        },
        "id": "UQ-etzhAb_o8",
        "outputId": "6622bf7a-f42b-48c9-8576-a28f2e19cf7a"
      },
      "source": [
        "features_ufi = X_train.columns\n",
        "importances_ufi = np.mean(All, axis = 0)\n",
        "indices = np.argsort(importances_ufi)\n",
        "\n",
        "plt.title('Feature Importances')\n",
        "plt.barh(range(len(indices)), importances_ufi[indices], color='b', align='center')\n",
        "plt.yticks(range(len(indices)), [features[i] for i in indices])\n",
        "plt.xlabel('Relative Importance')\n",
        "plt.show()"
      ],
      "execution_count": null,
      "outputs": [
        {
          "output_type": "display_data",
          "data": {
            "image/png": "[encoded data removed]",
            "text/plain": [
              "<Figure size 432x288 with 1 Axes>"
            ]
          },
          "metadata": {
            "tags": []
          }
        }
      ]
    },
    {
      "cell_type": "code",
      "metadata": {
        "id": "F8-SIdj_cnB8"
      },
      "source": [
        "importances = gbr.feature_importances_\n",
        "indices = np.argsort(importances)\n",
        "\n",
        "\n"
      ],
      "execution_count": null,
      "outputs": []
    }
  ]
}